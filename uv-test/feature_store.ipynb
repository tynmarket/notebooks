{
 "cells": [
  {
   "cell_type": "code",
   "execution_count": 14,
   "metadata": {},
   "outputs": [
    {
     "name": "stdout",
     "output_type": "stream",
     "text": [
      "Connected. Call `.close()` to terminate connection gracefully.\n"
     ]
    }
   ],
   "source": [
    "import numpy as np\n",
    "\n",
    "np.int = int\n",
    "np.float = float\n",
    "np.bool = bool\n",
    "\n",
    "import hsfs\n",
    "\n",
    "connection = hsfs.connection(\n",
    "    host=\"c.app.hopsworks.ai\",\n",
    "    project=\"tynmarket\",\n",
    "    api_key_value=\"\"\n",
    ")"
   ]
  },
  {
   "cell_type": "code",
   "execution_count": 15,
   "metadata": {},
   "outputs": [],
   "source": [
    "fs = connection.get_feature_store() "
   ]
  },
  {
   "cell_type": "code",
   "execution_count": 5,
   "metadata": {},
   "outputs": [
    {
     "name": "stdout",
     "output_type": "stream",
     "text": [
      "    close   volume                       date\n",
      "0   99.98  93417.0  2020-01-02 14:30:00+00:00\n",
      "1   99.78  16685.0  2020-01-02 14:31:00+00:00\n",
      "2  100.14  21998.0  2020-01-02 14:32:00+00:00\n",
      "3  100.35  18348.0  2020-01-02 14:33:00+00:00\n",
      "4  100.55  22181.0  2020-01-02 14:34:00+00:00\n",
      "close     float64\n",
      "volume    float64\n",
      "date       object\n",
      "dtype: object\n"
     ]
    }
   ],
   "source": [
    "import datetime\n",
    "import pandas as pd\n",
    "\n",
    "day_trading_features = pd.read_csv(\"~/git/tmp/data/fifteen_percent_gains_features.csv\")\n",
    "\n",
    "print(day_trading_features.head())\n",
    "print(day_trading_features.dtypes)\n"
   ]
  },
  {
   "cell_type": "code",
   "execution_count": 6,
   "metadata": {},
   "outputs": [
    {
     "data": {
      "text/html": [
       "<div>\n",
       "<style scoped>\n",
       "    .dataframe tbody tr th:only-of-type {\n",
       "        vertical-align: middle;\n",
       "    }\n",
       "\n",
       "    .dataframe tbody tr th {\n",
       "        vertical-align: top;\n",
       "    }\n",
       "\n",
       "    .dataframe thead th {\n",
       "        text-align: right;\n",
       "    }\n",
       "</style>\n",
       "<table border=\"1\" class=\"dataframe\">\n",
       "  <thead>\n",
       "    <tr style=\"text-align: right;\">\n",
       "      <th></th>\n",
       "      <th>close</th>\n",
       "      <th>volume</th>\n",
       "      <th>symbol</th>\n",
       "      <th>date</th>\n",
       "    </tr>\n",
       "    <tr>\n",
       "      <th>date</th>\n",
       "      <th></th>\n",
       "      <th></th>\n",
       "      <th></th>\n",
       "      <th></th>\n",
       "    </tr>\n",
       "  </thead>\n",
       "  <tbody>\n",
       "    <tr>\n",
       "      <th>2020-01-02 14:30:00-08:00</th>\n",
       "      <td>99.98</td>\n",
       "      <td>93417.0</td>\n",
       "      <td>TWLO</td>\n",
       "      <td>1578004200000000000</td>\n",
       "    </tr>\n",
       "    <tr>\n",
       "      <th>2020-01-02 14:31:00-08:00</th>\n",
       "      <td>99.78</td>\n",
       "      <td>16685.0</td>\n",
       "      <td>TWLO</td>\n",
       "      <td>1578004260000000000</td>\n",
       "    </tr>\n",
       "    <tr>\n",
       "      <th>2020-01-02 14:32:00-08:00</th>\n",
       "      <td>100.14</td>\n",
       "      <td>21998.0</td>\n",
       "      <td>TWLO</td>\n",
       "      <td>1578004320000000000</td>\n",
       "    </tr>\n",
       "    <tr>\n",
       "      <th>2020-01-02 14:33:00-08:00</th>\n",
       "      <td>100.35</td>\n",
       "      <td>18348.0</td>\n",
       "      <td>TWLO</td>\n",
       "      <td>1578004380000000000</td>\n",
       "    </tr>\n",
       "    <tr>\n",
       "      <th>2020-01-02 14:34:00-08:00</th>\n",
       "      <td>100.55</td>\n",
       "      <td>22181.0</td>\n",
       "      <td>TWLO</td>\n",
       "      <td>1578004440000000000</td>\n",
       "    </tr>\n",
       "  </tbody>\n",
       "</table>\n",
       "</div>"
      ],
      "text/plain": [
       "                            close   volume symbol                 date\n",
       "date                                                                  \n",
       "2020-01-02 14:30:00-08:00   99.98  93417.0   TWLO  1578004200000000000\n",
       "2020-01-02 14:31:00-08:00   99.78  16685.0   TWLO  1578004260000000000\n",
       "2020-01-02 14:32:00-08:00  100.14  21998.0   TWLO  1578004320000000000\n",
       "2020-01-02 14:33:00-08:00  100.35  18348.0   TWLO  1578004380000000000\n",
       "2020-01-02 14:34:00-08:00  100.55  22181.0   TWLO  1578004440000000000"
      ]
     },
     "execution_count": 6,
     "metadata": {},
     "output_type": "execute_result"
    }
   ],
   "source": [
    "# Ticker symbol\n",
    "day_trading_features['symbol'] = 'TWLO'\n",
    "\n",
    "# 文字列をdatetimeに変換\n",
    "day_trading_features['date'] = day_trading_features['date'].apply(lambda x:datetime.datetime.strptime(x[:-6], '%Y-%m-%d %H:%M:%S'))\n",
    "# dateをインデックスに設定\n",
    "day_trading_features.set_index('date', inplace=True)\n",
    "# タイムゾーンをUS/Pacificに設定\n",
    "day_trading_features = day_trading_features.tz_localize('US/Pacific')\n",
    "# dateをint型に変換\n",
    "day_trading_features['date'] = day_trading_features.index.astype(int)\n",
    "\n",
    "day_trading_features.head()"
   ]
  },
  {
   "cell_type": "code",
   "execution_count": 7,
   "metadata": {},
   "outputs": [],
   "source": [
    "tweet_df = pd.read_csv(\"~/git/tmp/data/twlo_tweets.csv\", encoding='ISO-8859-1')\n",
    "\n",
    "tweet_df.index = pd.to_datetime(tweet_df['date_tweeted'], format='ISO8601')\n",
    "tweet_df.index = tweet_df.index.tz_convert('US/Pacific')\n",
    "del tweet_df['date_tweeted']\n",
    "\n",
    "tweet_df.sort_index(inplace=True)\n",
    "tweet_df.dropna(inplace=True)\n",
    "\n",
    "rolling_7_day_total_tweets = tweet_df.resample('1T')['tweet_unique_id'].count().rolling('7D').sum()\n",
    "rolling_1_day_verified_count = tweet_df.resample('1T')['author_verified'].sum().rolling('1D').sum()\n",
    "\n",
    "twitter_stats = pd.DataFrame({\n",
    "    'feature__rolling_7_day_total_tweets': rolling_7_day_total_tweets,\n",
    "    'feature__rolling_1_day_verified_count': rolling_1_day_verified_count\n",
    "})\n",
    "\n",
    "twitter_stats.index = pd.to_datetime(twitter_stats.index)\n",
    "twitter_stats.index = twitter_stats.index.tz_convert('US/Pacific')\n",
    "\n",
    "day_trading_features = day_trading_features.merge(twitter_stats, left_index=True, right_index=True)"
   ]
  },
  {
   "cell_type": "code",
   "execution_count": 14,
   "metadata": {},
   "outputs": [
    {
     "name": "stdout",
     "output_type": "stream",
     "text": [
      "Feature Group created successfully, explore it at \n",
      "https://c.app.hopsworks.ai:443/p/1016980/fs/1008707/fg/1169738\n"
     ]
    },
    {
     "data": {
      "application/vnd.jupyter.widget-view+json": {
       "model_id": "6aacd6ba00854d7eae1de549c3b36923",
       "version_major": 2,
       "version_minor": 0
      },
      "text/plain": [
       "Uploading Dataframe: 0.00% |          | Rows 0/146502 | Elapsed Time: 00:00 | Remaining Time: ?"
      ]
     },
     "metadata": {},
     "output_type": "display_data"
    },
    {
     "name": "stdout",
     "output_type": "stream",
     "text": [
      "Launching job: twitter_features_1_offline_fg_materialization\n",
      "Job started successfully, you can follow the progress at \n",
      "https://c.app.hopsworks.ai/p/1016980/jobs/named/twitter_features_1_offline_fg_materialization/executions\n"
     ]
    },
    {
     "data": {
      "text/plain": [
       "(<hsfs.core.job.Job at 0x30bd7cc10>, None)"
      ]
     },
     "execution_count": 14,
     "metadata": {},
     "output_type": "execute_result"
    }
   ],
   "source": [
    "twitter_fg = fs.create_feature_group(name=\"twitter_features\",  # 特徴量グループの名前\n",
    "                                    primary_key=[\"symbol\"],  # データ内でエンティティを識別するキー\n",
    "                                    event_time = \"date\",  # どのデータがより新しいかを伝える\n",
    "                                    version=1,  # 特徴量のバージョン\n",
    "                                    description=\"Twitter Features\", # 特徴量グループの説明\n",
    "                                    online_enabled=True) # オンラインモードを有効化する\n",
    "\n",
    "# 特徴量を選択\n",
    "twitter_features = day_trading_features[['symbol', 'date', 'feature__rolling_7_day_total_tweets', 'feature__rolling_1_day_verified_count']]\n",
    "\n",
    "# 特徴量を保存\n",
    "twitter_fg.save(twitter_features)"
   ]
  },
  {
   "cell_type": "code",
   "execution_count": 18,
   "metadata": {},
   "outputs": [
    {
     "name": "stdout",
     "output_type": "stream",
     "text": [
      "Feature Group created successfully, explore it at \n",
      "https://c.app.hopsworks.ai:443/p/1016980/fs/1008707/fg/1187159\n"
     ]
    },
    {
     "data": {
      "application/vnd.jupyter.widget-view+json": {
       "model_id": "c11e3ddd33d149dea948c69e2746a07e",
       "version_major": 2,
       "version_minor": 0
      },
      "text/plain": [
       "Uploading Dataframe: 0.00% |          | Rows 0/146502 | Elapsed Time: 00:00 | Remaining Time: ?"
      ]
     },
     "metadata": {},
     "output_type": "display_data"
    },
    {
     "name": "stdout",
     "output_type": "stream",
     "text": [
      "Launching job: price_volume_features_1_offline_fg_materialization\n",
      "Job started successfully, you can follow the progress at \n",
      "https://c.app.hopsworks.ai/p/1016980/jobs/named/price_volume_features_1_offline_fg_materialization/executions\n"
     ]
    },
    {
     "data": {
      "text/plain": [
       "(<hsfs.core.job.Job at 0x307fb57e0>, None)"
      ]
     },
     "execution_count": 18,
     "metadata": {},
     "output_type": "execute_result"
    }
   ],
   "source": [
    "price_volume_fg = fs.create_feature_group(name=\"price_volume_features\",  # 特徴量グループの名前\n",
    "                                    primary_key=[\"symbol\"],  # データ内でエンティティを識別するキー\n",
    "                                    event_time = \"date\",  # どのデータがより新しいかを伝える\n",
    "                                    version=1,  # 特徴量のバージョン\n",
    "                                    description=\"Price and Volume Features\", # 特徴量グループの説明\n",
    "                                    online_enabled=True) # オンラインモードを有効化する\n",
    "\n",
    "# price_volume_fg = fs.get_feature_group('price_volume_features', version=1)\n",
    "# price_volume_fg.delete()\n",
    "\n",
    "# Twitter以外の特徴量を選択、保存\n",
    "price_volume_fg.save(day_trading_features.drop(['feature__rolling_7_day_total_tweets', 'feature__rolling_1_day_verified_count'], axis=1))"
   ]
  },
  {
   "cell_type": "code",
   "execution_count": 19,
   "metadata": {},
   "outputs": [],
   "source": [
    "twitter_fg = fs.get_feature_group(name=\"twitter_features\", version='1')\n",
    "price_volume_fg = fs.get_feature_group(name=\"price_volume_features\", version='1')"
   ]
  },
  {
   "cell_type": "code",
   "execution_count": 20,
   "metadata": {},
   "outputs": [
    {
     "name": "stdout",
     "output_type": "stream",
     "text": [
      "Finished: Reading data from Hopsworks, using Hopsworks Feature Query Service (9.47s) \n"
     ]
    },
    {
     "data": {
      "text/html": [
       "<div>\n",
       "<style scoped>\n",
       "    .dataframe tbody tr th:only-of-type {\n",
       "        vertical-align: middle;\n",
       "    }\n",
       "\n",
       "    .dataframe tbody tr th {\n",
       "        vertical-align: top;\n",
       "    }\n",
       "\n",
       "    .dataframe thead th {\n",
       "        text-align: right;\n",
       "    }\n",
       "</style>\n",
       "<table border=\"1\" class=\"dataframe\">\n",
       "  <thead>\n",
       "    <tr style=\"text-align: right;\">\n",
       "      <th></th>\n",
       "      <th>symbol</th>\n",
       "      <th>date</th>\n",
       "      <th>feature__rolling_7_day_total_tweets</th>\n",
       "      <th>feature__rolling_1_day_verified_count</th>\n",
       "      <th>close</th>\n",
       "      <th>volume</th>\n",
       "    </tr>\n",
       "  </thead>\n",
       "  <tbody>\n",
       "    <tr>\n",
       "      <th>0</th>\n",
       "      <td>TWLO</td>\n",
       "      <td>1578004200000000000</td>\n",
       "      <td>215.0</td>\n",
       "      <td>4.0</td>\n",
       "      <td>99.98</td>\n",
       "      <td>93417.0</td>\n",
       "    </tr>\n",
       "    <tr>\n",
       "      <th>1</th>\n",
       "      <td>TWLO</td>\n",
       "      <td>1578004380000000000</td>\n",
       "      <td>215.0</td>\n",
       "      <td>4.0</td>\n",
       "      <td>100.35</td>\n",
       "      <td>18348.0</td>\n",
       "    </tr>\n",
       "  </tbody>\n",
       "</table>\n",
       "</div>"
      ],
      "text/plain": [
       "  symbol                 date  feature__rolling_7_day_total_tweets  \\\n",
       "0   TWLO  1578004200000000000                                215.0   \n",
       "1   TWLO  1578004380000000000                                215.0   \n",
       "\n",
       "   feature__rolling_1_day_verified_count   close   volume  \n",
       "0                                    4.0   99.98  93417.0  \n",
       "1                                    4.0  100.35  18348.0  "
      ]
     },
     "execution_count": 20,
     "metadata": {},
     "output_type": "execute_result"
    }
   ],
   "source": [
    "# 2つの特徴量グループを組み合わせて元のデータを復元\n",
    "query = twitter_fg.select_all().join(price_volume_fg.select_all(), on=['date', 'symbol']) \n",
    "\n",
    "query.show(2)"
   ]
  },
  {
   "cell_type": "code",
   "execution_count": null,
   "metadata": {},
   "outputs": [],
   "source": []
  }
 ],
 "metadata": {
  "kernelspec": {
   "display_name": ".venv",
   "language": "python",
   "name": "python3"
  },
  "language_info": {
   "codemirror_mode": {
    "name": "ipython",
    "version": 3
   },
   "file_extension": ".py",
   "mimetype": "text/x-python",
   "name": "python",
   "nbconvert_exporter": "python",
   "pygments_lexer": "ipython3",
   "version": "3.10.13"
  }
 },
 "nbformat": 4,
 "nbformat_minor": 2
}
